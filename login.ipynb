{
 "cells": [
  {
   "cell_type": "code",
   "execution_count": 1,
   "metadata": {},
   "outputs": [
    {
     "name": "stdout",
     "output_type": "stream",
     "text": [
      "로그인 버튼\n",
      "로그인 버튼\n",
      "로그인 버튼\n",
      "OK 버튼\n",
      "OK 버튼\n",
      "OK 버튼\n",
      "OK 버튼\n"
     ]
    },
    {
     "ename": "SystemExit",
     "evalue": "0",
     "output_type": "error",
     "traceback": [
      "An exception has occurred, use %tb to see the full traceback.\n",
      "\u001b[1;31mSystemExit\u001b[0m\u001b[1;31m:\u001b[0m 0\n"
     ]
    },
    {
     "name": "stderr",
     "output_type": "stream",
     "text": [
      "C:\\Users\\JM\\AppData\\Local\\conda\\conda\\envs\\pyqt\\lib\\site-packages\\IPython\\core\\interactiveshell.py:3339: UserWarning: To exit: use 'exit', 'quit', or Ctrl-D.\n",
      "  warn(\"To exit: use 'exit', 'quit', or Ctrl-D.\", stacklevel=1)\n"
     ]
    }
   ],
   "source": [
    "import sys\n",
    "from PyQt5 import QtWidgets\n",
    "from PyQt5 import QtGui\n",
    "from PyQt5 import uic\n",
    "from PyQt5.QtCore import QTimer, QTime\n",
    "from PyQt5.QtCore import pyqtSlot\n",
    "\n",
    "class Sign_Up_Form(QtWidgets.QDialog):\n",
    "    def __init__(self, parent=None):\n",
    "        QtWidgets.QDialog.__init__(self, parent)\n",
    "        \n",
    "        self.ui = uic.loadUi(\"Sign_up.ui\", self)\n",
    "        self.initUI()\n",
    "        \n",
    "        self.ui.ok_btn.clicked.connect(self.ok_btn_clicked)\n",
    "        self.ui.back_btn.clicked.connect(self.back_btn_clicked)\n",
    "        \n",
    "    def initUI(self):\n",
    "        self.ui.setWindowTitle('로그인')\n",
    "        self.ui.show()\n",
    "    \n",
    "    def ok_btn_clicked(self):\n",
    "        print(\"OK 버튼\")\n",
    "        \n",
    "    def back_btn_clicked(self):\n",
    "        Login_Form()\n",
    "        self.close()\n",
    "\n",
    "class Login_Form(QtWidgets.QDialog):\n",
    "    def __init__(self, parent=None):\n",
    "        QtWidgets.QDialog.__init__(self, parent)\n",
    "        \n",
    "        self.ui = uic.loadUi(\"Login_Form.ui\", self)\n",
    "        self.initUI()\n",
    "        \n",
    "        self.ui.sign_up_btn.clicked.connect(self.sign_up_btn_clicked)\n",
    "        self.ui.login_btn.clicked.connect(self.login_btn_clicked)\n",
    "        \n",
    "    def initUI(self):\n",
    "        self.ui.setWindowTitle('로그인')\n",
    "        self.ui.show()\n",
    "    \n",
    "    def login_btn_clicked(self):\n",
    "        print(\"로그인 버튼\")\n",
    "        \n",
    "    def sign_up_btn_clicked(self):\n",
    "        Sign_Up_Form()\n",
    "        self.close()\n",
    "\n",
    "if __name__ == '__main__':\n",
    "    app = QtWidgets.QApplication(sys.argv)\n",
    "    w = Login_Form()\n",
    "    sys.exit(app.exec())"
   ]
  },
  {
   "cell_type": "code",
   "execution_count": null,
   "metadata": {},
   "outputs": [],
   "source": []
  }
 ],
 "metadata": {
  "kernelspec": {
   "display_name": "pyqt",
   "language": "python",
   "name": "pyqt"
  },
  "language_info": {
   "codemirror_mode": {
    "name": "ipython",
    "version": 3
   },
   "file_extension": ".py",
   "mimetype": "text/x-python",
   "name": "python",
   "nbconvert_exporter": "python",
   "pygments_lexer": "ipython3",
   "version": "3.6.10"
  }
 },
 "nbformat": 4,
 "nbformat_minor": 2
}
